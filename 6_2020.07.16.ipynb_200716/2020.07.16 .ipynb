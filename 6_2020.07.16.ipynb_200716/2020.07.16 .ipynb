{
 "cells": [
  {
   "cell_type": "markdown",
   "metadata": {},
   "source": [
    "XGBoost\n",
    "캐글에서 많이 사용되는 분류 머신.\n",
    "+ Gradient Boosting tree를 만들어내는 과정에서 근사적 알고리즘이 들어감.\n",
    "+ 더 많은 나무를 scalable하게 순차적으로 학습하는 것이 가능해짐.\n",
    "\n",
    "랜덤포레스트 vs xgboost\n",
    "\n",
    "+ 둘다 feature importance를 생성하는 것이 가능\n",
    "\n",
    "+ 갑론을박 중\n",
    "\n",
    "+ 랜덤포레스트는 큰 파라미터 튜닝 없이 좋은 성능이 나오는 것이 장점\n",
    "\n",
    "\n",
    "속도 향상 기능\n",
    "\n",
    "n_estimators : 200, \n",
    "Early Stopping : 50, \n",
    "병렬 연산 가능 - gpu 연결 가능\n",
    "\n",
    "설치 방법\n",
    "아나콘다 관리자 권한 실행 - condainstall -c anaconda py-xgboost\n",
    "proceed[y]/n?y\n",
    "import xgboost as xgb"
   ]
  },
  {
   "cell_type": "code",
   "execution_count": 2,
   "metadata": {},
   "outputs": [],
   "source": [
    "import xgboost as xgb"
   ]
  },
  {
   "cell_type": "code",
   "execution_count": null,
   "metadata": {},
   "outputs": [],
   "source": []
  }
 ],
 "metadata": {
  "kernelspec": {
   "display_name": "Python 3",
   "language": "python",
   "name": "python3"
  },
  "language_info": {
   "codemirror_mode": {
    "name": "ipython",
    "version": 3
   },
   "file_extension": ".py",
   "mimetype": "text/x-python",
   "name": "python",
   "nbconvert_exporter": "python",
   "pygments_lexer": "ipython3",
   "version": "3.7.6"
  }
 },
 "nbformat": 4,
 "nbformat_minor": 4
}
